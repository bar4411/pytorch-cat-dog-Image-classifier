{
  "nbformat": 4,
  "nbformat_minor": 0,
  "metadata": {
    "colab": {
      "name": "pytorch_cat&dog_to_submmit.ipynb",
      "version": "0.3.2",
      "provenance": []
    },
    "kernelspec": {
      "name": "python3",
      "display_name": "Python 3"
    },
    "accelerator": "GPU"
  },
  "cells": [
    {
      "cell_type": "code",
      "metadata": {
        "id": "ReI0VXbjHp4R",
        "colab_type": "code",
        "colab": {}
      },
      "source": [
        "%matplotlib inline\n",
        "%config InlineBackend.figure_format = 'retina'\n",
        "\n",
        "import matplotlib.pyplot as plt\n",
        "\n",
        "import torch\n",
        "from torch import nn\n",
        "from torch import optim\n",
        "import torch.nn.functional as F\n",
        "from torchvision import datasets, transforms, models"
      ],
      "execution_count": 0,
      "outputs": []
    },
    {
      "cell_type": "code",
      "metadata": {
        "id": "tMiICeKTlWfC",
        "colab_type": "code",
        "outputId": "073e774c-8981-4fce-806b-3476c2e84790",
        "colab": {
          "base_uri": "https://localhost:8080/",
          "height": 139
        }
      },
      "source": [
        "# download the cats and dogs dataset and unzip them\n",
        "# after this run, set your data_dir variable: data_dir = 'Cat_Dog_data'\n",
        "# so all the data is available. so path to your training data becomes `Cat_Dog_data/train`\n",
        "# path to test is `Cat_Dog_data/test`\n",
        "\n",
        "!wget -c https://s3.amazonaws.com/content.udacity-data.com/nd089/Cat_Dog_data.zip\n",
        "\n",
        "# remove existing directories\n",
        "!rm -r Cat_Dog_data __MACOSX || true\n",
        "!unzip -qq Cat_Dog_data.zip"
      ],
      "execution_count": 6,
      "outputs": [
        {
          "output_type": "stream",
          "text": [
            "--2019-08-12 12:33:46--  https://s3.amazonaws.com/content.udacity-data.com/nd089/Cat_Dog_data.zip\n",
            "Resolving s3.amazonaws.com (s3.amazonaws.com)... 52.216.227.3\n",
            "Connecting to s3.amazonaws.com (s3.amazonaws.com)|52.216.227.3|:443... connected.\n",
            "HTTP request sent, awaiting response... 416 Requested Range Not Satisfiable\n",
            "\n",
            "    The file is already fully retrieved; nothing to do.\n",
            "\n"
          ],
          "name": "stdout"
        }
      ]
    },
    {
      "cell_type": "markdown",
      "metadata": {
        "id": "EF6CzC525Vk4",
        "colab_type": "text"
      },
      "source": [
        "## get the train and the test data sets while doing Data Augmanatation in order to reduce\n",
        "## Overfirritng and enrich the data sets\n",
        "\n",
        "## then insert all into data loaders"
      ]
    },
    {
      "cell_type": "code",
      "metadata": {
        "id": "cRMhqPB4Hp4V",
        "colab_type": "code",
        "colab": {}
      },
      "source": [
        "data_dir = 'Cat_Dog_data'\n",
        "\n",
        "# TODO: Define transforms for the training data and testing data\n",
        "train_transforms = transforms.Compose([transforms.RandomRotation(30),\n",
        "                                       transforms.RandomResizedCrop(224),\n",
        "                                       transforms.RandomHorizontalFlip(),\n",
        "                                       transforms.ToTensor(),\n",
        "                                       transforms.Normalize([0.485, 0.456, 0.406],\n",
        "                                                            [0.229, 0.224, 0.225])])\n",
        "\n",
        "test_transforms = transforms.Compose([transforms.Resize(255),\n",
        "                                      transforms.CenterCrop(224),\n",
        "                                      transforms.ToTensor()])\n",
        "\n",
        "# Pass transforms in here, then run the next cell to see how the transforms look\n",
        "train_data = datasets.ImageFolder(data_dir + '/train', transform=train_transforms)\n",
        "test_data = datasets.ImageFolder(data_dir + '/test', transform=test_transforms)\n",
        "\n",
        "trainloader = torch.utils.data.DataLoader(train_data, batch_size=256, shuffle=True)\n",
        "testloader = torch.utils.data.DataLoader(test_data, batch_size=256, shuffle=True)"
      ],
      "execution_count": 0,
      "outputs": []
    },
    {
      "cell_type": "markdown",
      "metadata": {
        "id": "JmDWMmHw6Y0k",
        "colab_type": "text"
      },
      "source": [
        "# Transfer learning: Using densenet121 model"
      ]
    },
    {
      "cell_type": "code",
      "metadata": {
        "id": "r3IfQTktHp4h",
        "colab_type": "code",
        "colab": {}
      },
      "source": [
        "# detect if GPU available \n",
        "device = torch.device('cuda:0' if torch.cuda.is_available() else 'cpu')\n",
        "\n",
        "model = models.densenet121(pretrained=True)\n",
        "\n",
        "# freeze the layers of the model from gradient descent learning\n",
        "for param in model.parameters():\n",
        "  param.requires_grad = False\n",
        "  "
      ],
      "execution_count": 0,
      "outputs": []
    },
    {
      "cell_type": "markdown",
      "metadata": {
        "id": "RGQMa48n6uGO",
        "colab_type": "text"
      },
      "source": [
        "## Build the Classifier net and connect it to the end of the downloded model\n",
        "## using regularization of Dropout"
      ]
    },
    {
      "cell_type": "code",
      "metadata": {
        "id": "1_IUrnDF6tgb",
        "colab_type": "code",
        "colab": {}
      },
      "source": [
        "classifier = nn.Sequential(nn.Linear(1024, 512),\n",
        "                            nn.ReLU(),\n",
        "                            nn.Dropout(p=0.2),\n",
        "                            nn.Linear(512, 64),\n",
        "                            nn.ReLU(),\n",
        "                            nn.Dropout(p=0.2),\n",
        "                            nn.Linear(64, 2),\n",
        "                            nn.LogSoftmax(dim=1))\n",
        "\n",
        "model.classifier = classifier"
      ],
      "execution_count": 0,
      "outputs": []
    },
    {
      "cell_type": "markdown",
      "metadata": {
        "id": "8Cwid14i7UE0",
        "colab_type": "text"
      },
      "source": [
        "## after cros validation, We can see 4 epochs is enogth\n",
        "## using optimizer of Adam that combining together momentum and Rmsprop abilitties"
      ]
    },
    {
      "cell_type": "code",
      "metadata": {
        "id": "za1_1GAcrnFT",
        "colab_type": "code",
        "outputId": "696dee55-c6a1-46e2-c908-1ef08ba01e28",
        "colab": {
          "base_uri": "https://localhost:8080/",
          "height": 167
        }
      },
      "source": [
        "criteria = nn.NLLLoss()\n",
        "# Only train the classifier parameters, feature parameters are frozen\n",
        "optimizer = optim.Adam(model.classifier.parameters(), lr=0.001)\n",
        "\n",
        "epochs = 4\n",
        "model.to(device)\n",
        "for epoch in range(epochs):\n",
        "  model.classifier.train()\n",
        "  for train_batch,(inputs, lables) in enumerate(trainloader):\n",
        "    #i += 1\n",
        "    #if train_batch >= 50:\n",
        "    #  break\n",
        "    print('\\r\\b train batch num:',train_batch,end=\"\")\n",
        "    # Move input and label tensors to the GPU\n",
        "    inputs, lables = inputs.to(device), lables.to(device)\n",
        "    outputs = model(inputs)\n",
        "    optimizer.zero_grad()\n",
        "    loss = criteria(outputs, lables)\n",
        "    loss.backward()\n",
        "    optimizer.step()\n",
        "    \n",
        "    \n",
        "  model.eval()\n",
        "  with torch.no_grad():\n",
        "    accuracy = 0\n",
        "    for test_batch,(inputs, lables) in enumerate(testloader):\n",
        "      #j += 1\n",
        "      print('\\r\\b test batch num: ',test_batch,end=\"\")\n",
        "      #if test_batch >= 39:\n",
        "      #  continue\n",
        "      inputs, lables = inputs.to(device), lables.to(device)\n",
        "      outputs = model.forward(inputs)\n",
        "      top_p, top_class = outputs.topk(1, dim=1)\n",
        "      equality = top_class == lables.view(*top_class.shape)\n",
        "      accuracy += equality.type(torch.FloatTensor).mean()\n",
        "    else:\n",
        "      print(f\"\\nThe accuray is: {(accuracy.item() / len(testloader)) * 100}%\\n\")\n",
        "      "
      ],
      "execution_count": 18,
      "outputs": [
        {
          "output_type": "stream",
          "text": [
            "\b test batch num:  9\n",
            "The accuray is: 94.29448127746582%\n",
            "\n",
            "\b test batch num:  9\n",
            "The accuray is: 95.75175285339355%\n",
            "\n",
            "\b test batch num:  9\n",
            "The accuray is: 92.58849143981934%\n",
            "\n",
            "\b test batch num:  9\n",
            "The accuray is: 95.82669258117676%\n",
            "\n"
          ],
          "name": "stdout"
        }
      ]
    }
  ]
}